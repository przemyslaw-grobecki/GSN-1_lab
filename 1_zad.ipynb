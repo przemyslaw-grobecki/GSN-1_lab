{
 "cells": [
  {
   "cell_type": "code",
   "execution_count": 6,
   "id": "a20f8571",
   "metadata": {},
   "outputs": [
    {
     "name": "stdout",
     "output_type": "stream",
     "text": [
      "int64\n",
      "1\n",
      "(10,)\n",
      "<class 'numpy.ndarray'>\n",
      "[2 3 4 5 6 7 8]\n",
      "[[0 1 2 3 4]\n",
      " [5 6 7 8 9]]\n",
      "[ 5  7  9 11 13]\n"
     ]
    }
   ],
   "source": [
    "#1 zad\n",
    "import numpy as np\n",
    "array = np.array([0,1,2,3,4,5,6,7,8,9])\n",
    "\n",
    "dtype = array.dtype\n",
    "\n",
    "ndim = array.ndim\n",
    "\n",
    "shape = array.shape\n",
    "\n",
    "typeO = type(array)\n",
    "\n",
    "\n",
    "print(dtype)\n",
    "print(ndim)\n",
    "print(shape)\n",
    "print(typeO)\n",
    "\n",
    "print(array[2:-1]) #slicing\n",
    "\n",
    "reshaped = np.reshape(array, [2,5]) #reshape\n",
    "print(reshaped)\n",
    "\n",
    "print(np.add(reshaped[0], reshaped[1])) #elementwise addition"
   ]
  },
  {
   "cell_type": "code",
   "execution_count": null,
   "id": "5a1bb231",
   "metadata": {},
   "outputs": [],
   "source": []
  }
 ],
 "metadata": {
  "kernelspec": {
   "display_name": "gsn",
   "language": "python",
   "name": "gsn"
  },
  "language_info": {
   "codemirror_mode": {
    "name": "ipython",
    "version": 3
   },
   "file_extension": ".py",
   "mimetype": "text/x-python",
   "name": "python",
   "nbconvert_exporter": "python",
   "pygments_lexer": "ipython3",
   "version": "3.11.5"
  }
 },
 "nbformat": 4,
 "nbformat_minor": 5
}
